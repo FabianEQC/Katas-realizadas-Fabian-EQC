{
 "cells": [
  {
   "cell_type": "code",
   "execution_count": 21,
   "metadata": {},
   "outputs": [
    {
     "name": "stdout",
     "output_type": "stream",
     "text": [
      "Reporte de tanque:\n",
      "    Total: 78.0%\n",
      "    Tanque 1: 88%\n",
      "    Tanque 2: 76%\n",
      "    Tanque 3: 70% \n",
      "    \n"
     ]
    }
   ],
   "source": [
    "def promedio(values):\n",
    "    total1 = sum(values)\n",
    "    num = len(values)\n",
    "    return total1 / num\n",
    "promedio([80, 85, 81]) \n",
    "def reporte(tanque1, tanque2, tanque3):\n",
    "    return f\"\"\"Reporte de tanque:\n",
    "    Total: {promedio([tanque1, tanque2, tanque3])}%\n",
    "    Tanque 1: {tanque1}%\n",
    "    Tanque 2: {tanque2}%\n",
    "    Tanque 3: {tanque3}% \n",
    "    \"\"\"\n",
    "\n",
    "# Call the updated function again with different values\n",
    "print(reporte(88, 76, 70))\n"
   ]
  },
  {
   "cell_type": "code",
   "execution_count": 18,
   "metadata": {},
   "outputs": [
    {
     "name": "stdout",
     "output_type": "stream",
     "text": [
      "\n",
      "    Misión a Moon\n",
      "    Tiempo Total: 74 min\n",
      "    Total combustible: 5000\n",
      "    principal tanque --> 3000 litros sobrantes\n",
      "externo tanque --> 2000 litros sobrantes\n",
      "\n"
     ]
    }
   ],
   "source": [
    "\n",
    "def mision(destino, *minutos, **reserva):\n",
    "    prin = f\"\"\"\n",
    "    Misión a {destino}\n",
    "    Tiempo Total: {sum(minutos)} min\n",
    "    Total combustible: {sum(reserva.values())}\n",
    "    \"\"\"\n",
    "    for tanque, litro in reserva.items():\n",
    "        prin += f\"{tanque} tanque --> {litro} litros sobrantes\\n\"\n",
    "    return prin\n",
    "\n",
    "print(mision(\"Moon\", 8, 11, 55, principal=3000, externo=2000))"
   ]
  }
 ],
 "metadata": {
  "interpreter": {
   "hash": "b89b5cfaba6639976dc87ff2fec6d58faec662063367e2c229c520fe71072417"
  },
  "kernelspec": {
   "display_name": "Python 3.10.2 64-bit",
   "language": "python",
   "name": "python3"
  },
  "language_info": {
   "codemirror_mode": {
    "name": "ipython",
    "version": 3
   },
   "file_extension": ".py",
   "mimetype": "text/x-python",
   "name": "python",
   "nbconvert_exporter": "python",
   "pygments_lexer": "ipython3",
   "version": "3.10.2"
  },
  "orig_nbformat": 4
 },
 "nbformat": 4,
 "nbformat_minor": 2
}
