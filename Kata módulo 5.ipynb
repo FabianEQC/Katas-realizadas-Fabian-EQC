{
 "cells": [
  {
   "cell_type": "code",
   "execution_count": 1,
   "metadata": {},
   "outputs": [
    {
     "name": "stdout",
     "output_type": "stream",
     "text": [
      "La distancia entre La tierra y Jupiter es = 628949330 km\n",
      "La distancia en millas es = 390577534 millas \n"
     ]
    }
   ],
   "source": [
    "#Ejercicio 1\n",
    "from math import ceil\n",
    "Tierra=149597870\n",
    "Jupiter=778547200\n",
    "distancia= Jupiter-Tierra\n",
    "print(f\"\"\"La distancia entre La tierra y Jupiter es = {distancia} km\"\"\") \n",
    "millas=ceil(distancia *0.621)\n",
    "print(f\"\"\"La distancia en millas es = {millas} millas \"\"\")"
   ]
  },
  {
   "cell_type": "code",
   "execution_count": 12,
   "metadata": {},
   "outputs": [
    {
     "name": "stdout",
     "output_type": "stream",
     "text": [
      "Distancia Entre Planetas Y El Sol\n",
      "La distancia entre los planetas es =  2133120 km\n",
      "La distancia entre los planetas en millas es =  1324667.52\n"
     ]
    }
   ],
   "source": [
    "#Ejercicio 2\n",
    "print('Distancia entre planetas y el sol'.title())\n",
    "Planeta1=input('La distancia del primer planeta al sol es: ')\n",
    "print(f'La distancia del 1er planeta al sol es : {Planeta1} km')\n",
    "Planeta2=input('La distancia del segundo planeta al sol es: ')\n",
    "print(f'La distancia del 2do planeta al sol es : {Planeta2} km')\n",
    "D1=int(Planeta1)\n",
    "D2=int(Planeta2)\n",
    "D3=int(millas)\n",
    "km=D1 - D2\n",
    "print(f'La distancia entre los planetas es =  {abs(km)} km')\n",
    "D3=km*0.621\n",
    "print(f'La distancia entre los planetas en millas es =  {abs(D3)}')\n"
   ]
  }
 ],
 "metadata": {
  "interpreter": {
   "hash": "b89b5cfaba6639976dc87ff2fec6d58faec662063367e2c229c520fe71072417"
  },
  "kernelspec": {
   "display_name": "Python 3.10.2 64-bit",
   "language": "python",
   "name": "python3"
  },
  "language_info": {
   "codemirror_mode": {
    "name": "ipython",
    "version": 3
   },
   "file_extension": ".py",
   "mimetype": "text/x-python",
   "name": "python",
   "nbconvert_exporter": "python",
   "pygments_lexer": "ipython3",
   "version": "3.10.2"
  },
  "orig_nbformat": 4
 },
 "nbformat": 4,
 "nbformat_minor": 2
}
