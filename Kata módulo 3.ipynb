{
 "cells": [
  {
   "cell_type": "code",
   "execution_count": 7,
   "metadata": {},
   "outputs": [
    {
     "name": "stdout",
     "output_type": "stream",
     "text": [
      "Todo en orden\n"
     ]
    }
   ],
   "source": [
    "#Ejercicio 1\n",
    "velocidad = 49;\n",
    "\n",
    "if(velocidad > 25):\n",
    "    print(\"Advertencia de asteroide acercandose a gran velocidad\");\n",
    "else:\n",
    "    print(\"Todo en orden\");"
   ]
  },
  {
   "cell_type": "code",
   "execution_count": 11,
   "metadata": {},
   "outputs": [
    {
     "name": "stdout",
     "output_type": "stream",
     "text": [
      "Se ve el asteroide acercandose!\n"
     ]
    }
   ],
   "source": [
    "#Ejercicio 2\n",
    "velocidad=19;\n",
    "\n",
    "if(velocidad==20):\n",
    "    print(\"Se distingue la luz del asteroide en el cielo\");\n",
    "elif(velocidad>=20):\n",
    "     print(\"Se distingue la luz del asteroide en el cielo\");\n",
    "else:\n",
    "    print(\"Se ve el asteroide acercandose!\");\n",
    "\n",
    "\n"
   ]
  },
  {
   "cell_type": "code",
   "execution_count": 16,
   "metadata": {},
   "outputs": [
    {
     "name": "stdout",
     "output_type": "stream",
     "text": [
      "Se distingue la luz del asteroide en el cielo\n"
     ]
    }
   ],
   "source": [
    "#Ejercicio 3\n",
    "dim= 25;\n",
    "vel= 20;\n",
    "if (dim>= 25 and vel>25):\n",
    "     print(\"Advertencia de gran asteroide destructivo\");\n",
    "elif(vel<=20):\n",
    "    print(\"Se distingue la luz del asteroide en el cielo\");\n",
    "elif (dim<25):\n",
    "    print(\"Todo en orden\");   \n",
    "else:\n",
    "    print(\"Todo en orden\");    "
   ]
  }
 ],
 "metadata": {
  "interpreter": {
   "hash": "b89b5cfaba6639976dc87ff2fec6d58faec662063367e2c229c520fe71072417"
  },
  "kernelspec": {
   "display_name": "Python 3.10.2 64-bit",
   "language": "python",
   "name": "python3"
  },
  "language_info": {
   "codemirror_mode": {
    "name": "ipython",
    "version": 3
   },
   "file_extension": ".py",
   "mimetype": "text/x-python",
   "name": "python",
   "nbconvert_exporter": "python",
   "pygments_lexer": "ipython3",
   "version": "3.10.2"
  },
  "orig_nbformat": 4
 },
 "nbformat": 4,
 "nbformat_minor": 2
}
