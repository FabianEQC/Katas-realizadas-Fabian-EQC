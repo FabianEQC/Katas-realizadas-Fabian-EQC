{
 "cells": [
  {
   "cell_type": "code",
   "execution_count": 13,
   "metadata": {},
   "outputs": [
    {
     "name": "stdout",
     "output_type": "stream",
     "text": [
      "Hay 8 en el sistema solar\n",
      "Hay 8 en el sistema solar, el último planeta es  Plutón\n"
     ]
    }
   ],
   "source": [
    "#Ejercicio 1\n",
    "planets=['Mercurio','Venus','Tierra','Marte','Júpiter','Saturno','Urano','Neptuno']\n",
    "num_planetas=len(planets)\n",
    "print(f'Hay {num_planetas} en el sistema solar')\n",
    "planets.append('Plutón')\n",
    "print('Hay', num_planetas, 'en el sistema solar, el último planeta es ',planets[-1])"
   ]
  },
  {
   "cell_type": "code",
   "execution_count": 19,
   "metadata": {},
   "outputs": [
    {
     "name": "stdout",
     "output_type": "stream",
     "text": [
      "Los planetas más cercanos al Sol a partir del paneta Saturno son:  ['Mercurio', 'Venus', 'Tierra', 'Marte', 'Júpiter']\n",
      "Los planetas más alejados del Sol a partir del paneta Saturno son:  ['Urano', 'Neptuno']\n"
     ]
    }
   ],
   "source": [
    "#Ejercicio 2\n",
    "planets = ['Mercurio','Venus','Tierra','Marte','Júpiter','Saturno','Urano','Neptuno']\n",
    "sele_planet=input('Ingrese el nombre del Planeta iniciando con Mayúsculas:')\n",
    "planetaselec=planets.index(sele_planet)\n",
    "planetsb=planets[0:planetaselec]\n",
    "planetsc=planets[planetaselec+1:9]\n",
    "print('Los planetas más cercanos al Sol a partir del paneta' , sele_planet, 'son: ', planetsb)\n",
    "print('Los planetas más alejados del Sol a partir del paneta' , sele_planet, 'son: ', planetsc)"
   ]
  }
 ],
 "metadata": {
  "interpreter": {
   "hash": "b89b5cfaba6639976dc87ff2fec6d58faec662063367e2c229c520fe71072417"
  },
  "kernelspec": {
   "display_name": "Python 3.10.2 64-bit",
   "language": "python",
   "name": "python3"
  },
  "language_info": {
   "codemirror_mode": {
    "name": "ipython",
    "version": 3
   },
   "file_extension": ".py",
   "mimetype": "text/x-python",
   "name": "python",
   "nbconvert_exporter": "python",
   "pygments_lexer": "ipython3",
   "version": "3.10.2"
  },
  "orig_nbformat": 4
 },
 "nbformat": 4,
 "nbformat_minor": 2
}
